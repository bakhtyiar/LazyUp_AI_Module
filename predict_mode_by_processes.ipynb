{
 "cells": [
  {
   "metadata": {
    "ExecuteTime": {
     "end_time": "2024-11-13T16:28:27.010595Z",
     "start_time": "2024-11-13T16:28:26.997592Z"
    }
   },
   "cell_type": "code",
   "source": [
    "import pandas as pd\n",
    "from sklearn.model_selection import train_test_split\n",
    "from keras.preprocessing.text import Tokenizer\n",
    "from keras_preprocessing.sequence import pad_sequences\n",
    "from keras.models import Sequential, load_model\n",
    "from keras.layers import Dense, Embedding, LSTM\n",
    "from sklearn.metrics import classification_report\n",
    "import json\n",
    "import os\n"
   ],
   "id": "a0e53c2c0117dead",
   "outputs": [],
   "execution_count": 9
  },
  {
   "metadata": {
    "ExecuteTime": {
     "end_time": "2024-11-13T16:28:27.072609Z",
     "start_time": "2024-11-13T16:28:27.032600Z"
    }
   },
   "cell_type": "code",
   "source": [
    "log_data = []\n",
    "log_directory = './processes_logs'\n",
    "\n",
    "# Загрузка данных\n",
    "for filename in os.listdir(log_directory):\n",
    "    if filename.endswith('.json'):  # Проверяем, что файл имеет расширение .json\n",
    "        file_path = os.path.join(log_directory, filename)  # Полный путь к файлу\n",
    "        try:\n",
    "            with open(file_path, 'r') as file:\n",
    "                data = json.load(file)  # Загружаем данные из JSON-файла\n",
    "                # Проверяем структуру JSON\n",
    "                if (\n",
    "                    isinstance(data, dict) and \n",
    "                    'is_working_mode' in data and \n",
    "                    'timestamp' in data and \n",
    "                    'processes' in data and \n",
    "                    isinstance(data['processes'], list)\n",
    "                ):\n",
    "                    log_data.append(data)  # Добавляем данные в список\n",
    "        except (json.JSONDecodeError, IOError) as e:\n",
    "            print(f\"Ошибка при обработке файла {filename}: {e}\")\n",
    "data = log_data\n",
    "df = pd.DataFrame(data)"
   ],
   "id": "399ac6c990130222",
   "outputs": [],
   "execution_count": 10
  },
  {
   "metadata": {
    "ExecuteTime": {
     "end_time": "2024-11-13T16:28:27.120620Z",
     "start_time": "2024-11-13T16:28:27.106617Z"
    }
   },
   "cell_type": "code",
   "source": [
    "\n",
    "# Подготовка\n",
    "max_length = 64  # Максимальная длина последовательности\n",
    "tokenizer = Tokenizer()\n",
    "tokenizer.fit_on_texts(df['processes'])\n",
    "X = tokenizer.texts_to_sequences(df['processes'])\n",
    "X = pad_sequences(X, maxlen=max_length)\n",
    "y = pd.get_dummies(df['is_working_mode']).values  # one-hot encoding"
   ],
   "id": "663fcdb49df527d1",
   "outputs": [],
   "execution_count": 11
  },
  {
   "metadata": {
    "ExecuteTime": {
     "end_time": "2024-11-13T16:28:27.166630Z",
     "start_time": "2024-11-13T16:28:27.153628Z"
    }
   },
   "cell_type": "code",
   "source": [
    "\n",
    "# Разделение на обучающую и тестовую выборки\n",
    "X_train, X_test, y_train, y_test = train_test_split(X, y, test_size=0.2)\n"
   ],
   "id": "ced5c9f4f5f13895",
   "outputs": [],
   "execution_count": 12
  },
  {
   "metadata": {
    "ExecuteTime": {
     "end_time": "2024-11-13T16:28:27.880370Z",
     "start_time": "2024-11-13T16:28:27.200638Z"
    }
   },
   "cell_type": "code",
   "source": [
    "# Модель\n",
    "model = None\n",
    "try:\n",
    "    model = load_model('./predict_processes.h5')\n",
    "except OSError: \n",
    "    print(\"Saved model not found\")\n",
    "if not model:\n",
    "    model = Sequential()\n",
    "    amount_of_different_words = (len(tokenizer.word_index) + 1)\n",
    "    model.add(Embedding(input_dim=amount_of_different_words, output_dim=amount_of_different_words, input_length=max_length))\n",
    "    model.add(LSTM(amount_of_different_words))\n",
    "    model.add(Dense(2, activation='softmax'))\n",
    "    # Компиляция\n",
    "    model.compile(loss='categorical_crossentropy', optimizer='adam', metrics=['accuracy'])\n",
    "    # Обучение\n",
    "    model.fit(X_train, y_train, epochs=10, batch_size=32)\n",
    "    model.save('./predict_processes.h5')\n",
    "    "
   ],
   "id": "107714ceaa5827b3",
   "outputs": [],
   "execution_count": 13
  },
  {
   "metadata": {
    "ExecuteTime": {
     "end_time": "2024-11-13T16:28:28.557506Z",
     "start_time": "2024-11-13T16:28:27.898375Z"
    }
   },
   "cell_type": "code",
   "source": [
    "# Оценка\n",
    "test_loss, test_accuracy = model.evaluate(X_test, y_test)\n",
    "print(f'Test accuracy: {test_accuracy}')\n"
   ],
   "id": "f03103e348353661",
   "outputs": [
    {
     "name": "stdout",
     "output_type": "stream",
     "text": [
      "1/1 [==============================] - 1s 596ms/step - loss: 0.6439 - accuracy: 0.6500\n",
      "Test accuracy: 0.6499999761581421\n"
     ]
    }
   ],
   "execution_count": 14
  }
 ],
 "metadata": {
  "kernelspec": {
   "display_name": "Python 3",
   "language": "python",
   "name": "python3"
  },
  "language_info": {
   "codemirror_mode": {
    "name": "ipython",
    "version": 2
   },
   "file_extension": ".py",
   "mimetype": "text/x-python",
   "name": "python",
   "nbconvert_exporter": "python",
   "pygments_lexer": "ipython2",
   "version": "2.7.6"
  }
 },
 "nbformat": 4,
 "nbformat_minor": 5
}
