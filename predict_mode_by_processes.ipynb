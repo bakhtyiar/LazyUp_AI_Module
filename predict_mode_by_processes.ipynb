{
 "cells": [
  {
   "cell_type": "code",
   "execution_count": null,
   "metadata": {},
   "outputs": [],
   "source": [
    "import numpy as np\n",
    "import tensorflow as tf\n",
    "from tensorflow.keras.models import Sequential\n",
    "from tensorflow.keras.layers import Dense\n",
    "from sklearn.preprocessing import LabelEncoder\n",
    "from sklearn.model_selection import train_test_split\n"
   ]
  },
  {
   "cell_type": "code",
   "execution_count": null,
   "metadata": {},
   "outputs": [],
   "source": [
    "\n",
    "# Пример данных\n",
    "# Пожалуйста, замените этот пример вашими данными\n",
    "data = [\n",
    "    {\"processes\": [\"Excel\", \"System\", \"Registry\"], \"isWorkMode\": True},\n",
    "    {\"processes\": [\"Steam\", \"System\", \"Registry\"], \"isWorkMode\": False},\n",
    "    {\"processes\": [\"Discord\", \"System\", \"Registry\"], \"isWorkMode\": False},\n",
    "    {\"processes\": [\"Word\", \"System\", \"Registry\"], \"isWorkMode\": True},\n",
    "    {\"processes\": [\"Word\", \"Discord\", \"System\", \"Registry\"], \"isWorkMode\": True},\n",
    "    # Добавьте больше данных\n",
    "]\n"
   ]
  },
  {
   "cell_type": "code",
   "execution_count": null,
   "metadata": {},
   "outputs": [],
   "source": [
    "\n",
    "# Подготовка данных\n",
    "processes = []\n",
    "labels = []\n",
    "\n",
    "for entry in data:\n",
    "    processes.append(' '.join(entry[\"processes\"]))\n",
    "    labels.append(entry[\"isWorkMode\"])\n"
   ]
  },
  {
   "cell_type": "code",
   "execution_count": null,
   "metadata": {},
   "outputs": [],
   "source": [
    "\n",
    "# Кодируем метки (True/False) в числа (1/0)\n",
    "label_encoder = LabelEncoder()\n",
    "labels = label_encoder.fit_transform(labels)\n"
   ]
  },
  {
   "cell_type": "code",
   "execution_count": null,
   "metadata": {},
   "outputs": [],
   "source": [
    "\n",
    "# Преобразование строк в числовые векторы\n",
    "tokenizer = tf.keras.preprocessing.text.Tokenizer()\n",
    "tokenizer.fit_on_texts(processes)\n",
    "sequences = tokenizer.texts_to_sequences(processes)\n",
    "X = tf.keras.preprocessing.sequence.pad_sequences(sequences)\n"
   ]
  },
  {
   "cell_type": "code",
   "execution_count": null,
   "metadata": {},
   "outputs": [],
   "source": [
    "\n",
    "# Разделим данные на обучающую и тестовую выборки\n",
    "X_train, X_test, y_train, y_test = train_test_split(X, labels, test_size=0.2, random_state=42)\n"
   ]
  },
  {
   "cell_type": "code",
   "execution_count": null,
   "metadata": {},
   "outputs": [],
   "source": [
    "\n",
    "# Создание модели\n",
    "model = Sequential()\n",
    "model.add(Dense(64, activation='relu', input_dim=X_train.shape[1]))  # Входной слой\n",
    "model.add(Dense(32, activation='relu'))  # Скрытый слой\n",
    "model.add(Dense(1, activation='sigmoid'))  # Выходной слой\n"
   ]
  },
  {
   "cell_type": "code",
   "execution_count": null,
   "metadata": {},
   "outputs": [],
   "source": [
    "\n",
    "# Компиляция модели\n",
    "model.compile(loss='binary_crossentropy', optimizer='adam', metrics=['accuracy'])\n"
   ]
  },
  {
   "cell_type": "code",
   "execution_count": null,
   "metadata": {},
   "outputs": [],
   "source": [
    "\n",
    "# Обучение модели\n",
    "model.fit(X_train, y_train, epochs=10, batch_size=1, verbose=1)\n"
   ]
  },
  {
   "cell_type": "code",
   "execution_count": null,
   "metadata": {},
   "outputs": [],
   "source": [
    "\n",
    "# Оценка модели\n",
    "loss, accuracy = model.evaluate(X_test, y_test)\n",
    "print(f'Accuracy: {accuracy * 100:.2f}%')\n"
   ]
  },
  {
   "cell_type": "code",
   "execution_count": null,
   "metadata": {},
   "outputs": [],
   "source": [
    "\n",
    "# Прогнозирование\n",
    "def predict_is_work_mode(procs):\n",
    "    seq = tokenizer.texts_to_sequences([procs])\n",
    "    padded = tf.keras.preprocessing.sequence.pad_sequences(seq, maxlen=X_train.shape[1])\n",
    "    prediction = model.predict(padded)\n",
    "    return prediction[0][0] > 0.5  # И возвращаем True/False\n"
   ]
  },
  {
   "cell_type": "code",
   "execution_count": null,
   "metadata": {},
   "outputs": [],
   "source": [
    "\n",
    "# Пример использования\n",
    "test_processes = [\"proc1 proc2\"]\n",
    "print(f'Is Work Mode: {predict_is_work_mode(test_processes)}')\n"
   ]
  },
  {
   "cell_type": "code",
   "execution_count": null,
   "metadata": {},
   "outputs": [],
   "source": []
  }
 ],
 "metadata": {
  "language_info": {
   "name": "python"
  }
 },
 "nbformat": 4,
 "nbformat_minor": 2
}
