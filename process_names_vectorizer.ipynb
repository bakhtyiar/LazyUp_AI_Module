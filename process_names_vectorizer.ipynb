{
 "cells": [
  {
   "cell_type": "code",
   "execution_count": null,
   "metadata": {},
   "outputs": [],
   "source": [
    "%pip install sklearn"
   ]
  },
  {
   "cell_type": "code",
   "execution_count": null,
   "metadata": {},
   "outputs": [],
   "source": [
    "from sklearn.feature_extraction.text import CountVectorizer"
   ]
  },
  {
   "cell_type": "code",
   "execution_count": null,
   "metadata": {},
   "outputs": [],
   "source": [
    "\n",
    "# Пример списка процессов\n",
    "# todo: получать список процессов из лого lazyup\n",
    "# todo: прочитать https://habr.com/ru/articles/702626/\n",
    "processes = ['chrome.exe', 'notepad.exe', 'explorer.exe', 'csgo.exe']\n",
    "\n",
    "# Создаем векторизатор\n",
    "vectorizer = CountVectorizer()\n",
    "X = vectorizer.fit_transform(processes)\n",
    "\n",
    "# Преобразуем в массив\n",
    "process_matrix = X.toarray()\n",
    "\n",
    "# Печатаем результат\n",
    "print(process_matrix)\n",
    "print(vectorizer.get_feature_names_out())\n"
   ]
  }
 ],
 "metadata": {
  "language_info": {
   "name": "python"
  }
 },
 "nbformat": 4,
 "nbformat_minor": 2
}
