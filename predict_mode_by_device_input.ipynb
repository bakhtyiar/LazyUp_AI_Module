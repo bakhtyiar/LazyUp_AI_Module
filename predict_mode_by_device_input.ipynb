{
 "cells": [
  {
   "metadata": {
    "ExecuteTime": {
     "end_time": "2024-11-12T16:17:42.099569Z",
     "start_time": "2024-11-12T16:17:42.083565Z"
    }
   },
   "cell_type": "code",
   "source": [
    "import json\n",
    "import os\n",
    "import pandas as pd\n",
    "from datetime import datetime\n",
    "from keras.models import load_model\n",
    "from sklearn.model_selection import train_test_split\n",
    "from sklearn.ensemble import RandomForestClassifier\n",
    "from sklearn.metrics import classification_report\n",
    "import joblib"
   ],
   "id": "ff21214bcf7e8617",
   "outputs": [],
   "execution_count": 141
  },
  {
   "metadata": {
    "ExecuteTime": {
     "end_time": "2024-11-12T16:17:42.114572Z",
     "start_time": "2024-11-12T16:17:42.104570Z"
    }
   },
   "cell_type": "code",
   "source": [
    "directory_path = './device_input_logs'  # Путь к директории с JSON-файлами\n",
    "model_path = './predict_device_input.h5'  # Путь к модели"
   ],
   "id": "5764983b43a0f8c4",
   "outputs": [],
   "execution_count": 142
  },
  {
   "metadata": {
    "ExecuteTime": {
     "end_time": "2024-11-12T16:17:42.901282Z",
     "start_time": "2024-11-12T16:17:42.147596Z"
    }
   },
   "cell_type": "code",
   "source": [
    "# Считываем все логи\n",
    "all_logs = []\n",
    "for filename in os.listdir(directory_path):\n",
    "    if filename.endswith('.json'):\n",
    "        file_path = os.path.join(directory_path, filename)\n",
    "        with open(file_path, 'r') as file:\n",
    "            data = json.load(file)\n",
    "            all_logs.extend(data['deviceLogs'])"
   ],
   "id": "232e182b79b12e4f",
   "outputs": [],
   "execution_count": 143
  },
  {
   "metadata": {
    "ExecuteTime": {
     "end_time": "2024-11-12T16:17:43.594310Z",
     "start_time": "2024-11-12T16:17:42.918286Z"
    }
   },
   "cell_type": "code",
   "source": [
    "# Подготовка данных\n",
    "df = pd.DataFrame(all_logs)\n",
    "\n",
    "# Преобразуем timestamp в числовой формат\n",
    "df['timestamp'] = pd.to_datetime(df['timestamp'])\n",
    "df['timestamp_seconds'] = df['timestamp'].astype('int64') // 10**9  # Конвертация в секунды\n",
    "\n",
    "# Выбираем необходимые столбцы\n",
    "df = df[['timestamp_seconds', 'buttonKey', 'isWorkingMode']]\n",
    "prepared_data = df"
   ],
   "id": "eba822cbddd111d9",
   "outputs": [],
   "execution_count": 144
  },
  {
   "metadata": {
    "ExecuteTime": {
     "end_time": "2024-11-12T16:17:56.313655Z",
     "start_time": "2024-11-12T16:17:43.626317Z"
    }
   },
   "cell_type": "code",
   "source": [
    "model = None\n",
    "try:\n",
    "    model = joblib.load(model_path)\n",
    "except OSError: \n",
    "    print(\"Saved model not found\")\n",
    "if not model:\n",
    "    # Обучение модели\n",
    "    # Разделение данных на признаки и целевую переменную\n",
    "    X = prepared_data[['timestamp_seconds', 'buttonKey']]\n",
    "    y = prepared_data['isWorkingMode']\n",
    "\n",
    "    # Разделение данных на тренировочные и тестовые\n",
    "    X_train, X_test, y_train, y_test = train_test_split(X, y, test_size=0.2, random_state=42)\n",
    "    \n",
    "    # Создание и обучение модели\n",
    "    model = RandomForestClassifier()\n",
    "    model.fit(X_train, y_train)\n",
    "    # model.save(model_path)\n",
    "    joblib.dump(model, model_path)\n",
    "    \n",
    "    # Оценка модели\n",
    "    predictions = model.predict(X_test)\n",
    "    print(classification_report(y_test, predictions))\n",
    "    \n",
    "    "
   ],
   "id": "bd0d1f15a5ff8b71",
   "outputs": [
    {
     "name": "stdout",
     "output_type": "stream",
     "text": [
      "Saved model not found\n",
      "              precision    recall  f1-score   support\n",
      "\n",
      "       False       0.87      0.80      0.83     49881\n",
      "        True       0.82      0.88      0.85     50119\n",
      "\n",
      "    accuracy                           0.84    100000\n",
      "   macro avg       0.84      0.84      0.84    100000\n",
      "weighted avg       0.84      0.84      0.84    100000\n",
      "\n"
     ]
    }
   ],
   "execution_count": 145
  }
 ],
 "metadata": {
  "kernelspec": {
   "display_name": "Python 3",
   "language": "python",
   "name": "python3"
  },
  "language_info": {
   "codemirror_mode": {
    "name": "ipython",
    "version": 2
   },
   "file_extension": ".py",
   "mimetype": "text/x-python",
   "name": "python",
   "nbconvert_exporter": "python",
   "pygments_lexer": "ipython2",
   "version": "2.7.6"
  }
 },
 "nbformat": 4,
 "nbformat_minor": 5
}
