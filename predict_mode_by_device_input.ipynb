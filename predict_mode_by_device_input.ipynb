{
 "cells": [
  {
   "cell_type": "code",
   "execution_count": null,
   "metadata": {},
   "outputs": [],
   "source": [
    "import numpy as np\n",
    "import pandas as pd\n",
    "from sklearn.model_selection import train_test_split\n",
    "from tensorflow import keras\n",
    "from tensorflow.keras import layers\n"
   ]
  },
  {
   "cell_type": "code",
   "execution_count": null,
   "metadata": {},
   "outputs": [],
   "source": [
    "\n",
    "# Пример данных InputLog\n",
    "InputLog = [\n",
    "    {'buttonKey': 1, 'timestamp': 1, 'isWorkMode': True},\n",
    "    {'buttonKey': 2, 'timestamp': 2, 'isWorkMode': False},\n",
    "    # добавьте остальные записи...\n",
    "]\n"
   ]
  },
  {
   "cell_type": "code",
   "execution_count": null,
   "metadata": {},
   "outputs": [],
   "source": [
    "\n",
    "# Преобразуем данные в DataFrame\n",
    "df = pd.DataFrame(InputLog)\n"
   ]
  },
  {
   "cell_type": "code",
   "execution_count": null,
   "metadata": {},
   "outputs": [],
   "source": [
    "\n",
    "# Убедимся, что timestamp отсортирован\n",
    "df = df.sort_values(by='timestamp')\n"
   ]
  },
  {
   "cell_type": "code",
   "execution_count": null,
   "metadata": {},
   "outputs": [],
   "source": [
    "\n",
    "# Создание временных окон (180 секунд)\n",
    "window_size = 180  # seconds\n",
    "X, y = [], []\n",
    "\n",
    "for i in range(len(df)):\n",
    "    end_time = df['timestamp'].iloc[i]\n",
    "    start_time = end_time - window_size\n",
    "    \n",
    "    # Извлечение данных из окна\n",
    "    window = df[(df['timestamp'] >= start_time) & (df['timestamp'] <= end_time)]\n",
    "    \n",
    "    if len(window) > 0:\n",
    "        # Преобразование окна в структурированный массив\n",
    "        X.append(window[['buttonKey']].values.flatten())\n",
    "        # Определяем метку для каждого окна\n",
    "        y.append(int(window['isWorkMode'].any()))  # True, если есть хотя бы одно True\n",
    "\n",
    "X = np.array(X)\n",
    "y = np.array(y)\n"
   ]
  },
  {
   "cell_type": "code",
   "execution_count": null,
   "metadata": {},
   "outputs": [],
   "source": [
    "\n",
    "# Разделение на обучающую и тестовую выборки\n",
    "X_train, X_test, y_train, y_test = train_test_split(X, y, test_size=0.2, random_state=42)\n"
   ]
  },
  {
   "cell_type": "code",
   "execution_count": null,
   "metadata": {},
   "outputs": [],
   "source": [
    "\n",
    "# Создание модели\n",
    "model = keras.Sequential([\n",
    "    layers.Input(shape=(X_train.shape[1],)),\n",
    "    layers.Dense(10, activation='relu'),\n",
    "    layers.Dense(1, activation='sigmoid')  # binary classification\n",
    "])\n",
    "\n",
    "model.compile(optimizer='adam', loss='binary_crossentropy', metrics=['accuracy'])\n"
   ]
  },
  {
   "cell_type": "code",
   "execution_count": null,
   "metadata": {},
   "outputs": [],
   "source": [
    "\n",
    "# Обучение модели\n",
    "model.fit(X_train, y_train, epochs=10, batch_size=32)\n"
   ]
  },
  {
   "cell_type": "code",
   "execution_count": null,
   "metadata": {},
   "outputs": [],
   "source": [
    "\n",
    "# Оценка модели\n",
    "loss, accuracy = model.evaluate(X_test, y_test)\n",
    "print(f'Accuracy: {accuracy:.4f}')\n"
   ]
  },
  {
   "cell_type": "code",
   "execution_count": null,
   "metadata": {},
   "outputs": [],
   "source": [
    "\n",
    "# Пример предсказания\n",
    "sample_input = np.array([[1, 2, 3, 4, 5]])  # пример нового окна\n",
    "predicted = model.predict(sample_input)\n",
    "print(f'Predicted isWorkMode: {predicted[0][0] > 0.5}')  # True если предсказание > 0.5\n"
   ]
  }
 ],
 "metadata": {
  "language_info": {
   "name": "python"
  }
 },
 "nbformat": 4,
 "nbformat_minor": 2
}
