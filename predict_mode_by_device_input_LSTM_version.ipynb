{
 "cells": [
  {
   "cell_type": "code",
   "execution_count": null,
   "metadata": {},
   "outputs": [],
   "source": [
    "import numpy as np\n",
    "import pandas as pd\n",
    "from keras.models import Sequential\n",
    "from keras.layers import LSTM, Dense, Dropout\n",
    "from sklearn.preprocessing import LabelEncoder\n",
    "from sklearn.model_selection import train_test_split\n"
   ]
  },
  {
   "cell_type": "code",
   "execution_count": null,
   "metadata": {},
   "outputs": [],
   "source": [
    "# Загрузка данных\n",
    "data = pd.DataFrame({'timestamp': [...], 'buttonKey': [...], 'isWorkingMode': [...]})\n",
    "\n",
    "# Преобразование временной метрики\n",
    "data['timestamp'] = pd.to_datetime(data['timestamp'], unit='s')\n",
    "\n",
    "# Преобразование 'isWorkingMode' в числа\n",
    "label_encoder = LabelEncoder()\n",
    "data['isWorkingMode'] = label_encoder.fit_transform(data['isWorkingMode'])\n",
    "\n",
    "# Создание последовательностей\n",
    "def create_sequences(data, seq_length):\n",
    "    sequences = []\n",
    "    for i in range(len(data) - seq_length):\n",
    "        seq = data.iloc[i:i+seq_length]\n",
    "        sequences.append((seq[['buttonKey', 'isWorkingMode']].values, data['isWorkingMode'].iloc[i + seq_length]))\n",
    "    return sequences\n",
    "\n",
    "seq_length = 10  # Например, последовательность из 10 нажатий\n",
    "sequences = create_sequences(data, seq_length)\n",
    "\n",
    "X = np.array([seq[0] for seq in sequences])\n",
    "y = np.array([seq[1] for seq in sequences])\n"
   ]
  },
  {
   "cell_type": "code",
   "execution_count": null,
   "metadata": {},
   "outputs": [],
   "source": [
    "X_train, X_test, y_train, y_test = train_test_split(X, y, test_size=0.2, random_state=42)\n"
   ]
  },
  {
   "cell_type": "code",
   "execution_count": null,
   "metadata": {},
   "outputs": [],
   "source": [
    "model = Sequential()\n",
    "model.add(LSTM(50, return_sequences=True, input_shape=(X_train.shape[1], X_train.shape[2])))\n",
    "model.add(Dropout(0.2))\n",
    "model.add(LSTM(50))\n",
    "model.add(Dropout(0.2))\n",
    "model.add(Dense(1, activation='sigmoid'))  # Для бинарной классификации\n",
    "\n",
    "model.compile(optimizer='adam', loss='binary_crossentropy', metrics=['accuracy'])\n",
    "\n",
    "# Обучение модели\n",
    "model.fit(X_train, y_train, epochs=50, batch_size=32, validation_split=0.2)\n"
   ]
  },
  {
   "cell_type": "code",
   "execution_count": null,
   "metadata": {},
   "outputs": [],
   "source": [
    "loss, accuracy = model.evaluate(X_test, y_test)\n",
    "print(f'Test Accuracy: {accuracy}')\n"
   ]
  },
  {
   "cell_type": "code",
   "execution_count": null,
   "metadata": {},
   "outputs": [],
   "source": [
    "def predict_next_state(new_data):\n",
    "    # Предобработка нового ввода аналогично обучающим данным\n",
    "    new_seq = np.array(new_data).reshape((1, seq_length, 2))  # учтите размерности\n",
    "    prediction = model.predict(new_seq)\n",
    "    return prediction[0][0] > 0.5  # Порог для бинарной классификации\n"
   ]
  }
 ],
 "metadata": {
  "language_info": {
   "name": "python"
  }
 },
 "nbformat": 4,
 "nbformat_minor": 2
}
