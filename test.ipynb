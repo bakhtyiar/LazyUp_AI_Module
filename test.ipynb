{
 "cells": [
  {
   "cell_type": "code",
   "execution_count": null,
   "metadata": {},
   "outputs": [],
   "source": [
    "%pip install psutil\n",
    "%pip install numpy\n",
    "%pip install tensorflow\n",
    "%pip install pynput"
   ]
  },
  {
   "cell_type": "code",
   "execution_count": null,
   "metadata": {},
   "outputs": [],
   "source": [
    "import psutil\n",
    "import numpy as np\n",
    "import tensorflow as tf\n",
    "from pynput import keyboard, mouse\n",
    "import time"
   ]
  },
  {
   "cell_type": "code",
   "execution_count": null,
   "metadata": {},
   "outputs": [],
   "source": [
    "# Сбор данных о запущенных процессах\n",
    "def get_running_processes():\n",
    "    return [proc.name() for proc in psutil.process_iter()]"
   ]
  },
  {
   "cell_type": "code",
   "execution_count": null,
   "metadata": {},
   "outputs": [],
   "source": [
    "# Сбор действий клавиатуры\n",
    "class KeyMouseTracker:\n",
    "    def __init__(self):\n",
    "        self.actions = []\n",
    "\n",
    "    def on_press(self, key):\n",
    "        self.actions.append(('key', str(key)))\n",
    "\n",
    "    def on_click(self, x, y, button, pressed):\n",
    "        action_type = 'press' if pressed else 'release'\n",
    "        self.actions.append(('mouse', (x, y, button, action_type)))\n",
    "\n",
    "    def start_tracking(self):\n",
    "        with keyboard.Listener(on_press=self.on_press) as kl, mouse.Listener(on_click=self.on_click) as ml:\n",
    "            kl.join()\n",
    "            ml.join()\n"
   ]
  },
  {
   "cell_type": "code",
   "execution_count": null,
   "metadata": {},
   "outputs": [],
   "source": [
    "# Определяем модель нейронной сети\n",
    "def create_neural_network(input_shape):\n",
    "    model = tf.keras.Sequential([\n",
    "        tf.keras.layers.Dense(64, activation='relu', input_shape=(input_shape,)),\n",
    "        tf.keras.layers.Dense(32, activation='relu'),\n",
    "        tf.keras.layers.Dense(3, activation='softmax')  # Три класса выхода\n",
    "    ])\n",
    "    model.compile(optimizer='adam', loss='sparse_categorical_crossentropy', metrics=['accuracy'])\n",
    "    return model"
   ]
  },
  {
   "cell_type": "code",
   "execution_count": null,
   "metadata": {},
   "outputs": [],
   "source": [
    "# Пример данных\n",
    "def prepare_data(processes, actions):\n",
    "    all_items = processes + actions\n",
    "    data_vector = np.zeros(200)\n",
    "\n",
    "    # Преобразуем процессы в числовую форму (утрированно для примера)\n",
    "    for idx, process in enumerate(all_items[:100]):\n",
    "        data_vector[idx] = hash(process) % 100  # Условно преобразуем в числовое значение\n",
    "\n",
    "    # Преобразуем действия мыши и клавиатуры\n",
    "    for idx, action in enumerate(all_items[100:200], start=100):\n",
    "        data_vector[idx] = hash(action) % 50  # Также условно преобразуем\n",
    "\n",
    "    return data_vector"
   ]
  },
  {
   "cell_type": "code",
   "execution_count": null,
   "metadata": {},
   "outputs": [],
   "source": [
    "# Основная часть программы\n",
    "def main():\n",
    "    tracker = KeyMouseTracker()\n",
    "\n",
    "    # Запускаем трекинг действий\n",
    "    tracker.start_tracking()\n",
    "\n",
    "    # Получаем данные о процессах и действиях\n",
    "    processes = get_running_processes()\n",
    "    actions = tracker.actions\n",
    "\n",
    "    # Подготавливаем данные для модели\n",
    "    data = prepare_data(processes, actions)\n",
    "\n",
    "    # Создаем и тренируем модель (на данном этапе - без данных)\n",
    "    model = create_neural_network(data.shape[0])\n",
    "\n",
    "    # В реальной ситуации нужен набор тренировочных данных\n",
    "    # Пример вызова обучения модели:\n",
    "    # model.fit(train_data, train_labels, epochs=10)"
   ]
  },
  {
   "cell_type": "code",
   "execution_count": null,
   "metadata": {},
   "outputs": [],
   "source": [
    "# Начало исполнения кода программы\n",
    "if __name__ == \"__main__\":\n",
    "    main()"
   ]
  }
 ],
 "metadata": {
  "language_info": {
   "name": "python"
  }
 },
 "nbformat": 4,
 "nbformat_minor": 2
}
